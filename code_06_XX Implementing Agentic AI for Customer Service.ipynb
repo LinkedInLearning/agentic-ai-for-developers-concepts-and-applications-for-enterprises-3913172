{
 "cells": [
  {
   "cell_type": "markdown",
   "id": "daf5512f-c31c-48a1-8149-b061b34e5e9b",
   "metadata": {},
   "source": [
    "### 06.03. Setup functions and indexes"
   ]
  },
  {
   "cell_type": "code",
   "execution_count": 1,
   "id": "50a56bd8-0e28-4f07-8981-ed1a31ad0d63",
   "metadata": {},
   "outputs": [],
   "source": [
    "#Setup Azure Open AI connection\n",
    "from llama_index.llms.azure_openai import AzureOpenAI\n",
    "from llama_index.embeddings.azure_openai import AzureOpenAIEmbedding\n",
    "\n",
    "from llama_index.core import Settings\n",
    "import os\n",
    "import nest_asyncio\n",
    "\n",
    "nest_asyncio.apply()\n",
    "\n",
    "api_key = \"e638bb3ebcb84b79aa5b6f93d6e6503a\"\n",
    "azure_endpoint = \"https://agentic-ai-course-account.openai.azure.com/\"\n",
    "api_version = \"2024-05-01-preview\"\n",
    "\n",
    "#Function calling support only available in GPT-4\n",
    "Settings.llm=AzureOpenAI(\n",
    "    model=\"gpt-4\",\n",
    "    deployment_name=\"agentai-gpt4\",\n",
    "    api_key=api_key,\n",
    "    azure_endpoint=azure_endpoint,\n",
    "    api_version=api_version,\n",
    ")\n",
    "\n",
    "Settings.embed_model= AzureOpenAIEmbedding(\n",
    "    model=\"text-embedding-ada-002\",\n",
    "    deployment_name=\"agentai-embedding\",\n",
    "    api_key=api_key,\n",
    "    azure_endpoint=azure_endpoint,\n",
    "    api_version=api_version,\n",
    ")\n"
   ]
  },
  {
   "cell_type": "code",
   "execution_count": 2,
   "id": "e3c92609-3d56-46c5-8724-3ce96ad205b0",
   "metadata": {},
   "outputs": [],
   "source": [
    "from typing import List\n",
    "from llama_index.core import SimpleDirectoryReader\n",
    "from llama_index.core.node_parser import SentenceSplitter\n",
    "from llama_index.core import  VectorStoreIndex\n",
    "from llama_index.core.tools import QueryEngineTool\n",
    "\n",
    "#-------------------------------------------------------------\n",
    "# Tool 1 : Function that returns the list of items in an order\n",
    "#-------------------------------------------------------------\n",
    "def get_order_items(order_id: int) -> List[str] :\n",
    "    \"\"\"Given an order Id, this function returns the \n",
    "    list of items purchased for that order\"\"\"\n",
    "    \n",
    "    order_items = {\n",
    "            1001: [\"Laptop\",\"Mouse\"],\n",
    "            1002: [\"Keyboard\",\"HDMI Cable\"],\n",
    "            1003: [\"Laptop\",\"Keyboard\"]\n",
    "        }\n",
    "    if order_id in order_items.keys():\n",
    "        return order_items[order_id]\n",
    "    else:\n",
    "        return []\n",
    "\n",
    "#-------------------------------------------------------------\n",
    "# Tool 2 : Function that returns the delivery date for an order\n",
    "#-------------------------------------------------------------\n",
    "def get_delivery_date(order_id: int) -> str:\n",
    "    \"\"\"Given an order Id, this function returns the \n",
    "    delivery date for that order\"\"\"\n",
    "\n",
    "    delivery_dates = {\n",
    "            1001: \"10-Jun\",\n",
    "            1002: \"12-Jun\",\n",
    "            1003: \"08-Jun\"       \n",
    "    }\n",
    "    if order_id in delivery_dates.keys():\n",
    "        return delivery_dates[order_id]\n",
    "    else:\n",
    "        return []\n",
    "\n",
    "#----------------------------------------------------------------\n",
    "# Tool 3 : Function that returns maximum return days for an item\n",
    "#----------------------------------------------------------------\n",
    "def get_item_return_days(item: str) -> int :\n",
    "    \"\"\"Given an Item, this function returns the return support\n",
    "    for that order. The return support is in number of days\"\"\"\n",
    "    \n",
    "    item_returns = {\n",
    "            \"Laptop\"     : 30,\n",
    "            \"Mouse\"      : 15,\n",
    "            \"Keyboard\"   : 15,\n",
    "            \"HDMI Cable\" : 5\n",
    "    }\n",
    "    if item in item_returns.keys():\n",
    "        return item_returns[item]\n",
    "    else:\n",
    "        #Default\n",
    "        return 45\n",
    "\n",
    "#-------------------------------------------------------------\n",
    "# Tool 4 : Vector DB that contains customer support contacts\n",
    "#-------------------------------------------------------------\n",
    "#Setup vector index for return policies\n",
    "support_docs=SimpleDirectoryReader(input_files=[\"Customer Service.pdf\"]).load_data()\n",
    "\n",
    "splitter=SentenceSplitter(chunk_size=1024)\n",
    "support_nodes=splitter.get_nodes_from_documents(support_docs)\n",
    "support_index=VectorStoreIndex(support_nodes)\n",
    "support_query_engine = support_index.as_query_engine()\n"
   ]
  },
  {
   "cell_type": "markdown",
   "id": "9042d5a7-5d9c-4542-a9cb-ebc51ac665a4",
   "metadata": {},
   "source": [
    "### 06.04. Setup the Customer Service AI Agent"
   ]
  },
  {
   "cell_type": "code",
   "execution_count": 3,
   "id": "b8bb1ca3-1d86-4dd2-9692-bcb8a7224a51",
   "metadata": {},
   "outputs": [],
   "source": [
    "from llama_index.core.tools import FunctionTool\n",
    "\n",
    "#Create tools for the 3 functions and 1 index\n",
    "order_item_tool = FunctionTool.from_defaults(fn=get_order_items)\n",
    "delivery_date_tool = FunctionTool.from_defaults(fn=get_delivery_date)\n",
    "return_policy_tool = FunctionTool.from_defaults(fn=get_item_return_days)\n",
    "\n",
    "support_tool = QueryEngineTool.from_defaults(\n",
    "    query_engine=support_query_engine,\n",
    "    description=(\n",
    "        \"Customer support policies and contact information\"\n",
    "    ),\n",
    ")"
   ]
  },
  {
   "cell_type": "code",
   "execution_count": 4,
   "id": "e34e041e-a34a-4201-836e-fe2a18475b9e",
   "metadata": {},
   "outputs": [],
   "source": [
    "from llama_index.core.agent import FunctionCallingAgentWorker\n",
    "from llama_index.core.agent import AgentRunner\n",
    "from llama_index.llms.openai import OpenAI\n",
    "\n",
    "#Setup the Agent worker in LlamaIndex with all the Tools\n",
    "#This is the tool executor process\n",
    "agent_worker = FunctionCallingAgentWorker.from_tools(\n",
    "    [order_item_tool, \n",
    "     delivery_date_tool,\n",
    "     return_policy_tool,\n",
    "     support_tool\n",
    "    ], \n",
    "    llm=Settings.llm, \n",
    "    verbose=True\n",
    ")\n",
    "#Create an Agent Orchestrator with LlamaIndex\n",
    "agent = AgentRunner(agent_worker)\n"
   ]
  },
  {
   "cell_type": "markdown",
   "id": "e3a85eb9-4b48-43c0-8d41-243b63a029aa",
   "metadata": {},
   "source": [
    "### 06.05. Using the customer service Agent"
   ]
  },
  {
   "cell_type": "code",
   "execution_count": 5,
   "id": "10ebeacf-30bd-4157-98da-52ef5599358f",
   "metadata": {},
   "outputs": [
    {
     "name": "stdout",
     "output_type": "stream",
     "text": [
      "Added user message to memory: What is the return policy for order number 1001\n",
      "=== Calling Function ===\n",
      "Calling function: get_order_items with args: {\"order_id\": 1001}\n",
      "=== Function Output ===\n",
      "['Laptop', 'Mouse']\n",
      "=== Calling Function ===\n",
      "Calling function: get_item_return_days with args: {\"item\": \"Laptop\"}\n",
      "=== Function Output ===\n",
      "30\n",
      "=== Calling Function ===\n",
      "Calling function: get_item_return_days with args: {\"item\": \"Mouse\"}\n",
      "=== Function Output ===\n",
      "15\n",
      "=== LLM Response ===\n",
      "The return policy for order number 1001 is as follows:\n",
      "- Laptop: 30 days return policy\n",
      "- Mouse: 15 days return policy\n",
      "\n",
      " Final output : \n",
      " The return policy for order number 1001 is as follows:\n",
      "- Laptop: 30 days return policy\n",
      "- Mouse: 15 days return policy\n"
     ]
    }
   ],
   "source": [
    "#Get return policy for an order\n",
    "response = agent.query(\n",
    "    \"What is the return policy for order number 1001\"\n",
    ")\n",
    "\n",
    "print(\"\\n Final output : \\n\", response)"
   ]
  },
  {
   "cell_type": "code",
   "execution_count": 6,
   "id": "bd65349a-9aa7-414f-88dd-b6ac2ba61fe3",
   "metadata": {},
   "outputs": [
    {
     "name": "stdout",
     "output_type": "stream",
     "text": [
      "Added user message to memory: When is the delivery date and items shipped for order 1003 and how can I contact customer support?\n",
      "=== Calling Function ===\n",
      "Calling function: get_order_items with args: {\"order_id\": 1003}\n",
      "=== Function Output ===\n",
      "['Laptop', 'Keyboard']\n",
      "=== Calling Function ===\n",
      "Calling function: get_delivery_date with args: {\"order_id\": 1003}\n",
      "=== Function Output ===\n",
      "08-Jun\n",
      "=== Calling Function ===\n",
      "Calling function: query_engine_tool with args: {\"input\": \"customer support contact\"}\n",
      "=== Function Output ===\n",
      "Customers can contact customer service by calling 1-987-654-3210 or by emailing support@company.com.\n",
      "=== LLM Response ===\n",
      "For order 1003, the items shipped are a Laptop and a Keyboard. The delivery date is scheduled for June 8th.\n",
      "\n",
      "If you need to contact customer support, you can call them at 1-987-654-3210 or email them at support@company.com.\n",
      "\n",
      " Final output : \n",
      " For order 1003, the items shipped are a Laptop and a Keyboard. The delivery date is scheduled for June 8th.\n",
      "\n",
      "If you need to contact customer support, you can call them at 1-987-654-3210 or email them at support@company.com.\n"
     ]
    }
   ],
   "source": [
    "# Three part question\n",
    "response = agent.query(\n",
    "    \"When is the delivery date and items shipped for order 1003 and how can I contact customer support?\"\n",
    ")\n",
    "\n",
    "print(\"\\n Final output : \\n\", response)"
   ]
  },
  {
   "cell_type": "code",
   "execution_count": 7,
   "id": "d7aea13e-12a0-464e-94ff-6cbefa9141b4",
   "metadata": {},
   "outputs": [
    {
     "name": "stdout",
     "output_type": "stream",
     "text": [
      "Added user message to memory: What is the return policy for order number 1004\n",
      "=== Calling Function ===\n",
      "Calling function: get_order_items with args: {\"order_id\": 1004}\n",
      "=== Function Output ===\n",
      "[]\n",
      "=== LLM Response ===\n",
      "It seems that there are no items associated with order number 1004. Therefore, there is no return policy applicable for this order. If you believe this is an error or have any other inquiries, please let me know how I can assist you further!\n",
      "\n",
      " Final output : \n",
      " It seems that there are no items associated with order number 1004. Therefore, there is no return policy applicable for this order. If you believe this is an error or have any other inquiries, please let me know how I can assist you further!\n"
     ]
    }
   ],
   "source": [
    "#Question about an invalid order number\n",
    "response = agent.query(\n",
    "    \"What is the return policy for order number 1004\"\n",
    ")\n",
    "\n",
    "print(\"\\n Final output : \\n\", response)"
   ]
  },
  {
   "cell_type": "code",
   "execution_count": null,
   "id": "b1423b83-69d1-4598-b2b5-447d01dca87a",
   "metadata": {},
   "outputs": [],
   "source": []
  }
 ],
 "metadata": {
  "kernelspec": {
   "display_name": "Python 3 (ipykernel)",
   "language": "python",
   "name": "python3"
  },
  "language_info": {
   "codemirror_mode": {
    "name": "ipython",
    "version": 3
   },
   "file_extension": ".py",
   "mimetype": "text/x-python",
   "name": "python",
   "nbconvert_exporter": "python",
   "pygments_lexer": "ipython3",
   "version": "3.10.13"
  }
 },
 "nbformat": 4,
 "nbformat_minor": 5
}
