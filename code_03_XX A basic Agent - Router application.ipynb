{
 "cells": [
  {
   "cell_type": "markdown",
   "id": "ee5c0c82-a3ff-4fe1-9238-69bba6c2bed7",
   "metadata": {},
   "source": [
    "### 03.03. Setting up Indexes"
   ]
  },
  {
   "cell_type": "code",
   "execution_count": null,
   "id": "a8fa44f3-cd5c-4fcd-8a40-fe8046005824",
   "metadata": {},
   "outputs": [],
   "source": [
    "#Install prerequisite packages\n",
    "!pip install python-dotenv==1.0.0\n",
    "\n",
    "!pip install llama-index==0.10.59\n",
    "!pip install llama-index-llms-openai==0.1.27\n",
    "!pip install llama-index-embeddings-openai==0.1.11\n",
    "!pip install llama-index-llms-azure-openai==0.1.10\n",
    "!pip install llama-index-embeddings-azure-openai==0.1.11\n"
   ]
  },
  {
   "cell_type": "code",
   "execution_count": null,
   "id": "d3dd014f-d175-4723-ae20-9292dc9cb633",
   "metadata": {},
   "outputs": [],
   "source": [
    "#Setup Azure Open AI connection\n",
    "from llama_index.llms.azure_openai import AzureOpenAI\n",
    "from llama_index.embeddings.azure_openai import AzureOpenAIEmbedding\n",
    "\n",
    "from llama_index.core import Settings\n",
    "import os\n",
    "import nest_asyncio\n",
    "\n",
    "nest_asyncio.apply()\n",
    "\n",
    "#API info. Replace with your own keys and end points\n",
    "api_key = \"e638bb3ebcb84b79aa5b6f93d6e6503a\"\n",
    "azure_endpoint = \"https://agentic-ai-course-account.openai.azure.com/\"\n",
    "api_version = \"2024-05-01-preview\"\n",
    "\n",
    "#Setup the LLM\n",
    "Settings.llm=AzureOpenAI(\n",
    "    model=\"gpt-35-turbo\",\n",
    "    deployment_name=\"agentai-gpt35\",\n",
    "    api_key=api_key,\n",
    "    azure_endpoint=azure_endpoint,\n",
    "    api_version=api_version,\n",
    ")\n",
    "\n",
    "#Setup the embedding model RAG\n",
    "Settings.embed_model= AzureOpenAIEmbedding(\n",
    "    model=\"text-embedding-ada-002\",\n",
    "    deployment_name=\"agentai-embedding\",\n",
    "    api_key=api_key,\n",
    "    azure_endpoint=azure_endpoint,\n",
    "    api_version=api_version,\n",
    ")\n"
   ]
  },
  {
   "cell_type": "code",
   "execution_count": null,
   "id": "07ad3b12-10f1-4447-b63c-10f903730878",
   "metadata": {},
   "outputs": [],
   "source": [
    "#Create indexes for vector search\n",
    "from llama_index.core import SimpleDirectoryReader\n",
    "from llama_index.core.node_parser import SentenceSplitter\n",
    "from llama_index.core import  VectorStoreIndex\n",
    "\n",
    "splitter=SentenceSplitter(chunk_size=1024)\n",
    "\n",
    "#-------------------------------------------------------------------\n",
    "#Setup Aeroflow document index\n",
    "#-------------------------------------------------------------------\n",
    "aeroflow_documents=SimpleDirectoryReader(\n",
    "    input_files=[\"AeroFlow_Specification_Document.pdf\"])\\\n",
    "            .load_data()\n",
    "\n",
    "#Read documents into nodes\n",
    "aeroflow_nodes=splitter.get_nodes_from_documents(aeroflow_documents)\n",
    "#Create a vector Store\n",
    "aeroflow_index=VectorStoreIndex(aeroflow_nodes)\n",
    "#Create a query engine\n",
    "aeroflow_query_engine = aeroflow_index.as_query_engine()\n",
    "\n",
    "#-------------------------------------------------------------------\n",
    "#Setup EchoSprint document index\n",
    "#-------------------------------------------------------------------\n",
    "ecosprint_documents=SimpleDirectoryReader(\n",
    "    input_files=[\"EcoSprint_Specification_Document.pdf\"])\\\n",
    "            .load_data()\n",
    "#Read documents into nodes\n",
    "ecosprint_nodes=splitter.get_nodes_from_documents(ecosprint_documents)\n",
    "#Create a vector Store\n",
    "ecosprint_index=VectorStoreIndex(ecosprint_nodes)\n",
    "#Create a query engine\n",
    "ecosprint_query_engine = ecosprint_index.as_query_engine()\n"
   ]
  },
  {
   "cell_type": "markdown",
   "id": "f75954cc-cf76-4a92-ac92-580b4393b885",
   "metadata": {},
   "source": [
    "### 03.04. Setup the Agentic Router"
   ]
  },
  {
   "cell_type": "code",
   "execution_count": null,
   "id": "767a0751-5238-4df8-816f-8436a34f96bf",
   "metadata": {},
   "outputs": [],
   "source": [
    "from llama_index.core.tools import QueryEngineTool\n",
    "from llama_index.core.query_engine.router_query_engine import RouterQueryEngine\n",
    "from llama_index.core.selectors import LLMSingleSelector\n",
    "\n",
    "#Create a query engine Tool for NoSQL\n",
    "aeroflow_tool = QueryEngineTool.from_defaults(\n",
    "    query_engine=aeroflow_query_engine,\n",
    "    name=\"Aeroflow specifications\",\n",
    "    description=(\n",
    "        \"Contains information about Aeroflow : Design, features, technology, maintenance, warranty\"\n",
    "    ),\n",
    ")\n",
    "\n",
    "#Create a query engine Tool for NLP\n",
    "ecosprint_tool = QueryEngineTool.from_defaults(\n",
    "    query_engine=ecosprint_query_engine,\n",
    "    name=\"EchoSprint specifications\",\n",
    "    description=(\n",
    "        \"Contains information about EchoSprint : Design, features, technology, maintenance, warranty\"\n",
    "    ),\n",
    ")\n",
    "\n",
    "#Create a Router Agent. Provide the Tools to the Agent\n",
    "router_agent=RouterQueryEngine(\n",
    "    selector=LLMSingleSelector.from_defaults(),\n",
    "    query_engine_tools=[\n",
    "        aeroflow_tool,\n",
    "        ecosprint_tool,\n",
    "    ],\n",
    "    verbose=True\n",
    ")"
   ]
  },
  {
   "cell_type": "markdown",
   "id": "02d4e35b-73ad-4692-9218-d751f6baa9c5",
   "metadata": {},
   "source": [
    "### 03.05. Route with Agentic AI"
   ]
  },
  {
   "cell_type": "code",
   "execution_count": null,
   "id": "429aea8c-f8ae-4a52-8a50-0da4c082fb68",
   "metadata": {},
   "outputs": [],
   "source": [
    "#Ask a question about NoSQL\n",
    "response = router_agent.query(\"What colors are available for AeroFlow?\")\n",
    "print(\"\\nResponse: \",str(response))"
   ]
  },
  {
   "cell_type": "code",
   "execution_count": null,
   "id": "a0cd1078-a27f-4e3e-b3f6-b98a0d66027e",
   "metadata": {},
   "outputs": [],
   "source": [
    "response = router_agent.query(\"What colors are available for EcoSprint?\")\n",
    "print(\"\\nResponse: \",str(response))"
   ]
  },
  {
   "cell_type": "code",
   "execution_count": null,
   "id": "1c2f3f20-8738-4a7d-90d3-5db595298dac",
   "metadata": {},
   "outputs": [],
   "source": []
  }
 ],
 "metadata": {
  "kernelspec": {
   "display_name": "Python 3 (ipykernel)",
   "language": "python",
   "name": "python3"
  },
  "language_info": {
   "codemirror_mode": {
    "name": "ipython",
    "version": 3
   },
   "file_extension": ".py",
   "mimetype": "text/x-python",
   "name": "python",
   "nbconvert_exporter": "python",
   "pygments_lexer": "ipython3",
   "version": "3.10.13"
  }
 },
 "nbformat": 4,
 "nbformat_minor": 5
}
